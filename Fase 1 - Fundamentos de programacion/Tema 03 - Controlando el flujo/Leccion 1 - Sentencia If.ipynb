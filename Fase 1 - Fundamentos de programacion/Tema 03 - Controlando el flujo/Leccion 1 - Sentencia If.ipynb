{
 "cells": [
  {
   "cell_type": "code",
   "execution_count": 1,
   "metadata": {},
   "outputs": [
    {
     "name": "stdout",
     "output_type": "stream",
     "text": [
      "Se cumple la condicion\n",
      "Tambien se muestra este print\n"
     ]
    }
   ],
   "source": [
    "# En python la identación es importante ya que es la manera de identificar un bloque de código\n",
    "if True: \n",
    "    print(\"Se cumple la condicion\")\n",
    "    print(\"Tambien se muestra este print\")"
   ]
  },
  {
   "cell_type": "code",
   "execution_count": 3,
   "metadata": {},
   "outputs": [
    {
     "name": "stdout",
     "output_type": "stream",
     "text": [
      "a vale 5\n",
      "b vale 10\n"
     ]
    }
   ],
   "source": [
    "a = 5\n",
    "b = 10\n",
    "if a == 5:\n",
    "    print(\"a vale 5\")\n",
    "    if b == 10: \n",
    "        print(\"b vale 10\")"
   ]
  },
  {
   "cell_type": "code",
   "execution_count": 4,
   "metadata": {},
   "outputs": [
    {
     "name": "stdout",
     "output_type": "stream",
     "text": [
      "a vale 5 y b vale 10\n"
     ]
    }
   ],
   "source": [
    "#Se simplifica de esta manera:\n",
    "if a == 5 and b == 10: \n",
    "    print(\"a vale 5 y b vale 10\")"
   ]
  },
  {
   "cell_type": "code",
   "execution_count": 6,
   "metadata": {},
   "outputs": [
    {
     "name": "stdout",
     "output_type": "stream",
     "text": [
      "10  es un numero par\n"
     ]
    }
   ],
   "source": [
    "n = 10\n",
    "if (n%2) == 0:\n",
    "    print(n, \" es un numero par\")\n",
    "else:\n",
    "    print(n, \" es un numero impar\")"
   ]
  },
  {
   "cell_type": "code",
   "execution_count": 12,
   "metadata": {},
   "outputs": [
    {
     "name": "stdout",
     "output_type": "stream",
     "text": [
      "Hasta pronto!\n"
     ]
    }
   ],
   "source": [
    "comando = \"SALIR\"\n",
    "if comando == \"ENTRAR\":\n",
    "    print(\"Bienvenido al sistema\")\n",
    "elif comando == \"SALUDAR\":\n",
    "    print(\"Hola, ya estoy aprendiendo Python al fin!!!\")\n",
    "elif comando == \"SALIR\":\n",
    "    print(\"Hasta pronto!\")\n",
    "else: # En caso de que no se cumpla ninguno de los anteriores, se usa 'else'\n",
    "    print(\"Ese comando no se reconoce\")"
   ]
  },
  {
   "cell_type": "code",
   "execution_count": 16,
   "metadata": {},
   "outputs": [
    {
     "name": "stdout",
     "output_type": "stream",
     "text": [
      "Introduce una nota: 6\n",
      "Bien\n",
      "Suficiente\n"
     ]
    }
   ],
   "source": [
    "nota = 6 # Cuando se usa if en lugar de elif, se evaluan todas las posibilidades, por eso 6 tiene mas de una respuesta aquí\n",
    "\n",
    "if nota >=9:\n",
    "    print(\"Sobresaliente\")\n",
    "if nota >=7:\n",
    "    print(\"Notable\")\n",
    "if nota >= 6:\n",
    "    print(\"Bien\")\n",
    "if nota >= 5:\n",
    "    print(\"Suficiente\")\n",
    "if nota < 5:\n",
    "    print(\"Insuficiente\")\n",
    "    \n"
   ]
  },
  {
   "cell_type": "code",
   "execution_count": 17,
   "metadata": {},
   "outputs": [],
   "source": [
    "# pass se usa para definir un bloque vacío. Cuando no se quiere escribir nada por ahora. Para esqueletos de estructuras\n",
    "if True:\n",
    "    pass"
   ]
  },
  {
   "cell_type": "markdown",
   "metadata": {},
   "source": [
    "No existe el Switch en python, pero hay otras maneras de simular su comportamiento"
   ]
  },
  {
   "cell_type": "code",
   "execution_count": 20,
   "metadata": {},
   "outputs": [
    {
     "name": "stdout",
     "output_type": "stream",
     "text": [
      "2\n"
     ]
    }
   ],
   "source": [
    "cadena_1 = \"2asdas\"\n",
    "cadena_2 = \"45asssdd\"\n",
    "\n",
    "# Completa el ejercicio a partir de aquí\n",
    "if(len(cadena_1) > len(cadena_2)):\n",
    "    resultado = 1\n",
    "elif(len(cadena_1) < len(cadena_2)):    \n",
    "    resultado = 2\n",
    "elif(len(cadena_1) == len(cadena_2)):    \n",
    "    resultado = 0\n",
    "print(resultado)"
   ]
  },
  {
   "cell_type": "code",
   "execution_count": null,
   "metadata": {},
   "outputs": [],
   "source": []
  }
 ],
 "metadata": {
  "kernelspec": {
   "display_name": "Python 3",
   "language": "python",
   "name": "python3"
  },
  "language_info": {
   "codemirror_mode": {
    "name": "ipython",
    "version": 3
   },
   "file_extension": ".py",
   "mimetype": "text/x-python",
   "name": "python",
   "nbconvert_exporter": "python",
   "pygments_lexer": "ipython3",
   "version": "3.9.5"
  }
 },
 "nbformat": 4,
 "nbformat_minor": 1
}
