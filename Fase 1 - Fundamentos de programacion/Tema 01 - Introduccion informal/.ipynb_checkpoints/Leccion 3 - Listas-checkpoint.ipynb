{
 "cells": [
  {
   "cell_type": "code",
   "execution_count": 4,
   "metadata": {},
   "outputs": [
    {
     "name": "stdout",
     "output_type": "stream",
     "text": [
      "[1, 2, 3, 4, 5]\n"
     ]
    }
   ],
   "source": [
    "numeros = [1,2,3,4,5]\n",
    "datos = [4,\"Cadena\", -22, \"otra cadena\", numeros]\n",
    "\n",
    "print(datos[4])"
   ]
  },
  {
   "cell_type": "code",
   "execution_count": 5,
   "metadata": {},
   "outputs": [],
   "source": [
    "datos.append(1000)"
   ]
  },
  {
   "cell_type": "code",
   "execution_count": 6,
   "metadata": {},
   "outputs": [
    {
     "data": {
      "text/plain": [
       "[4, 'Cadena', -22, 'otra cadena', [1, 2, 3, 4, 5], 1000]"
      ]
     },
     "execution_count": 6,
     "metadata": {},
     "output_type": "execute_result"
    }
   ],
   "source": [
    "datos\n"
   ]
  },
  {
   "cell_type": "code",
   "execution_count": 8,
   "metadata": {},
   "outputs": [],
   "source": [
    "letras = ['a','b','c','d','e']\n",
    "letras[:2] = ['A','B']"
   ]
  },
  {
   "cell_type": "code",
   "execution_count": null,
   "metadata": {},
   "outputs": [],
   "source": []
  },
  {
   "cell_type": "code",
   "execution_count": 9,
   "metadata": {},
   "outputs": [
    {
     "data": {
      "text/plain": [
       "['A', 'B', 'c', 'd', 'e']"
      ]
     },
     "execution_count": 9,
     "metadata": {},
     "output_type": "execute_result"
    }
   ],
   "source": [
    "letras"
   ]
  },
  {
   "cell_type": "code",
   "execution_count": 15,
   "metadata": {},
   "outputs": [],
   "source": [
    "# Para borrar los datos\n",
    "letras[:2] = []"
   ]
  },
  {
   "cell_type": "code",
   "execution_count": 16,
   "metadata": {},
   "outputs": [
    {
     "data": {
      "text/plain": [
       "5"
      ]
     },
     "execution_count": 16,
     "metadata": {},
     "output_type": "execute_result"
    }
   ],
   "source": [
    "datos[4][-1]"
   ]
  },
  {
   "cell_type": "code",
   "execution_count": 17,
   "metadata": {},
   "outputs": [
    {
     "data": {
      "text/plain": [
       "3"
      ]
     },
     "execution_count": 17,
     "metadata": {},
     "output_type": "execute_result"
    }
   ],
   "source": [
    "a = [1,2,3]\n",
    "b = [4,5,6]\n",
    "c = [7,8,9]\n",
    "r = [a,b,c]\n",
    "\n",
    "r[0][2]"
   ]
  },
  {
   "cell_type": "code",
   "execution_count": 31,
   "metadata": {},
   "outputs": [
    {
     "name": "stdout",
     "output_type": "stream",
     "text": [
      "[1, 12, 123, 1234]\n",
      "['Ciao', 'Agur', 'Adieu', 'Adiós']\n",
      "[1, 12, 123, 1234, 'Ciao', 'Agur', 'Adieu', 'Adiós']\n"
     ]
    }
   ],
   "source": [
    "# no modifiques el nombre de ninguna variable, puedes crear nuevas\n",
    "lista1 = [1, 12, 123]\n",
    "lista2 = [\"Bye\", \"Ciao\", \"Agur\", \"Adieu\"]\n",
    "\n",
    "# completa el ejercicio\n",
    "lista1 = lista1 + [1234, \"Hola\"]\n",
    "lista2 = lista2 + [\"Adiós\", 1234]\n",
    "lista3 = lista1[:-1]\n",
    "print(lista3)\n",
    "lista4 = lista2[1:-1]\n",
    "print(lista4)\n",
    "\n",
    "lista5 = lista4 + lista3\n",
    "print(lista5)"
   ]
  },
  {
   "cell_type": "code",
   "execution_count": null,
   "metadata": {},
   "outputs": [],
   "source": []
  }
 ],
 "metadata": {
  "anaconda-cloud": {},
  "kernelspec": {
   "display_name": "Python 3",
   "language": "python",
   "name": "python3"
  },
  "language_info": {
   "codemirror_mode": {
    "name": "ipython",
    "version": 3
   },
   "file_extension": ".py",
   "mimetype": "text/x-python",
   "name": "python",
   "nbconvert_exporter": "python",
   "pygments_lexer": "ipython3",
   "version": "3.9.5"
  }
 },
 "nbformat": 4,
 "nbformat_minor": 1
}
