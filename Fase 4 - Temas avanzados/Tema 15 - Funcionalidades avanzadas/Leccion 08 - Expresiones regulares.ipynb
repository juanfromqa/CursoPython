{
 "cells": [
  {
   "cell_type": "markdown",
   "metadata": {},
   "source": [
    "# Expresiones regulares"
   ]
  },
  {
   "cell_type": "code",
   "execution_count": 2,
   "metadata": {},
   "outputs": [
    {
     "data": {
      "text/plain": [
       "<re.Match object; span=(40, 46), match='mágica'>"
      ]
     },
     "execution_count": 2,
     "metadata": {},
     "output_type": "execute_result"
    }
   ],
   "source": [
    "import re\n",
    "\n",
    "texto = \"En esta cadena se encuentra una palabra mágica\"\n",
    "\n",
    "re.search(\"mágica\", texto) # el resultado es un objeto Match"
   ]
  },
  {
   "cell_type": "code",
   "execution_count": 3,
   "metadata": {},
   "outputs": [
    {
     "name": "stdout",
     "output_type": "stream",
     "text": [
      "Se ha encontrado la palabra\n"
     ]
    }
   ],
   "source": [
    "encontrado = re.search(\"mágica\", texto)\n",
    "\n",
    "if encontrado is not None:\n",
    "    print(\"Se ha encontrado la palabra\")"
   ]
  },
  {
   "cell_type": "code",
   "execution_count": 4,
   "metadata": {},
   "outputs": [
    {
     "data": {
      "text/plain": [
       "40"
      ]
     },
     "execution_count": 4,
     "metadata": {},
     "output_type": "execute_result"
    }
   ],
   "source": [
    "# Buscar un patrón en una cadena\n",
    "\n",
    "encontrado.start() # Regresa la posicion donde se encuentra la coincidencia"
   ]
  },
  {
   "cell_type": "code",
   "execution_count": 5,
   "metadata": {},
   "outputs": [
    {
     "data": {
      "text/plain": [
       "46"
      ]
     },
     "execution_count": 5,
     "metadata": {},
     "output_type": "execute_result"
    }
   ],
   "source": [
    "encontrado.end() # Regresa donde acaba la palabra buscada"
   ]
  },
  {
   "cell_type": "code",
   "execution_count": 7,
   "metadata": {},
   "outputs": [
    {
     "data": {
      "text/plain": [
       "(40, 46)"
      ]
     },
     "execution_count": 7,
     "metadata": {},
     "output_type": "execute_result"
    }
   ],
   "source": [
    "encontrado.span() # Regresa el inicio y fin en una tupla"
   ]
  },
  {
   "cell_type": "code",
   "execution_count": 8,
   "metadata": {},
   "outputs": [
    {
     "data": {
      "text/plain": [
       "'En esta cadena se encuentra una palabra mágica'"
      ]
     },
     "execution_count": 8,
     "metadata": {},
     "output_type": "execute_result"
    }
   ],
   "source": [
    "encontrado.string"
   ]
  },
  {
   "cell_type": "code",
   "execution_count": 4,
   "metadata": {},
   "outputs": [
    {
     "data": {
      "text/plain": [
       "<re.Match object; span=(0, 4), match='Hola'>"
      ]
     },
     "execution_count": 4,
     "metadata": {},
     "output_type": "execute_result"
    }
   ],
   "source": [
    "# Busca un patron al PRINCIPIO de otra cadena\n",
    "texto = \"Hola mundo\"\n",
    "re.match(\"Hola\", texto)"
   ]
  },
  {
   "cell_type": "code",
   "execution_count": 7,
   "metadata": {},
   "outputs": [],
   "source": [
    "re.match(\"ola\", texto) # No regresda nada si no se encuentra la palabra al inicio de la cadena"
   ]
  },
  {
   "cell_type": "code",
   "execution_count": 8,
   "metadata": {},
   "outputs": [
    {
     "data": {
      "text/plain": [
       "['Vamos', 'a', 'dividir', 'esta', 'cadena']"
      ]
     },
     "execution_count": 8,
     "metadata": {},
     "output_type": "execute_result"
    }
   ],
   "source": [
    "texto = \"Vamos a dividir esta cadena\"\n",
    "re.split(' ', texto) # Permite separar las palabras a partir de un patrón, en este caso el espacio"
   ]
  },
  {
   "cell_type": "code",
   "execution_count": 10,
   "metadata": {},
   "outputs": [
    {
     "data": {
      "text/plain": [
       "'Hola amigx'"
      ]
     },
     "execution_count": 10,
     "metadata": {},
     "output_type": "execute_result"
    }
   ],
   "source": [
    "texto = \"Hola amigo\"\n",
    "re.sub(\"amigo\", \"amigx\", texto)"
   ]
  },
  {
   "cell_type": "code",
   "execution_count": 11,
   "metadata": {},
   "outputs": [
    {
     "data": {
      "text/plain": [
       "['hola', 'hola', 'hola']"
      ]
     },
     "execution_count": 11,
     "metadata": {},
     "output_type": "execute_result"
    }
   ],
   "source": [
    "texto = \"hola adios hola hola\"\n",
    "re.findall(\"hola\", texto) # Busca todas las coincidencias en una cadena"
   ]
  },
  {
   "cell_type": "code",
   "execution_count": 13,
   "metadata": {},
   "outputs": [
    {
     "data": {
      "text/plain": [
       "4"
      ]
     },
     "execution_count": 13,
     "metadata": {},
     "output_type": "execute_result"
    }
   ],
   "source": [
    "len(re.findall(\"a\", texto))"
   ]
  },
  {
   "cell_type": "code",
   "execution_count": 15,
   "metadata": {},
   "outputs": [
    {
     "data": {
      "text/plain": [
       "['hola', 'hello', 'hola', 'hola', 'hello']"
      ]
     },
     "execution_count": 15,
     "metadata": {},
     "output_type": "execute_result"
    }
   ],
   "source": [
    "texto = \"hola adios hello bye, hola, hola, hello\"\n",
    "\n",
    "re.findall(\"hola|hello\", texto) # Se pueden buscar varias palabras usando el pipe"
   ]
  },
  {
   "cell_type": "code",
   "execution_count": 17,
   "metadata": {},
   "outputs": [
    {
     "data": {
      "text/plain": [
       "['hola']"
      ]
     },
     "execution_count": 17,
     "metadata": {},
     "output_type": "execute_result"
    }
   ],
   "source": [
    "texto = \"hla hola hoola hooola hooooooola\"\n",
    "\n",
    "re.findall(\"hola\", texto)"
   ]
  },
  {
   "cell_type": "code",
   "execution_count": 18,
   "metadata": {},
   "outputs": [
    {
     "name": "stdout",
     "output_type": "stream",
     "text": [
      "['hla']\n",
      "['hola']\n",
      "['hoola']\n"
     ]
    }
   ],
   "source": [
    "def buscar(patrones, texto):\n",
    "    for patron in patrones:\n",
    "        print(re.findall(patron, texto))\n",
    "\n",
    "patrones = [\"hla\", \"hola\", \"hoola\"]\n",
    "buscar(patrones, texto)"
   ]
  },
  {
   "cell_type": "code",
   "execution_count": 22,
   "metadata": {},
   "outputs": [
    {
     "name": "stdout",
     "output_type": "stream",
     "text": [
      "['ho', 'ho', 'ho', 'ho']\n",
      "['h', 'ho', 'hoo', 'hooo', 'hooooooo']\n",
      "['hla', 'hola', 'hoola', 'hooola', 'hooooooola']\n",
      "['hla']\n"
     ]
    }
   ],
   "source": [
    "# meta-caracter: Ninguna o mas repeticiones de la letra a su izquierda ho*la - significa ninguna o mas o's\n",
    "\n",
    "texto = \"hla hola hoola hooola hooooooola\"\n",
    "\n",
    "patrones= ['ho', 'ho*', 'ho*la', 'hu*la']\n",
    "\n",
    "buscar(patrones, texto)\n"
   ]
  },
  {
   "cell_type": "code",
   "execution_count": 24,
   "metadata": {},
   "outputs": [
    {
     "name": "stdout",
     "output_type": "stream",
     "text": [
      "['ho', 'ho', 'ho', 'ho']\n",
      "['ho', 'hoo', 'hooo', 'hooooooo']\n"
     ]
    }
   ],
   "source": [
    "# MEta-caracter +, busca UNA o MAS repeticiones\n",
    "texto = \"hla hola hoola hooola hooooooola\"\n",
    "\n",
    "patrones= ['ho', 'ho+']\n",
    "\n",
    "buscar(patrones, texto)"
   ]
  },
  {
   "cell_type": "code",
   "execution_count": 26,
   "metadata": {},
   "outputs": [
    {
     "name": "stdout",
     "output_type": "stream",
     "text": [
      "['ho', 'ho', 'ho', 'ho']\n",
      "['ho', 'hoo', 'hooo', 'hooooooo']\n",
      "['h', 'ho', 'ho', 'ho', 'ho']\n",
      "['hla', 'hola']\n"
     ]
    }
   ],
   "source": [
    "# MEta-caracter ?: Sirve para encontrar UNA o NINGUNA repeticion de la letra a su izquierda\n",
    "texto = \"hla hola hoola hooola hooooooola\"\n",
    "\n",
    "patrones= ['ho', 'ho+', 'ho?', 'ho?la']\n",
    "\n",
    "buscar(patrones, texto)"
   ]
  },
  {
   "cell_type": "code",
   "execution_count": 29,
   "metadata": {},
   "outputs": [
    {
     "name": "stdout",
     "output_type": "stream",
     "text": [
      "['hooooooola']\n",
      "['hooola']\n"
     ]
    }
   ],
   "source": [
    "# Sintaxis con {n} indica un numero de repeticiones explicito de la letra a su izquierda\n",
    "texto = \"hla hola hoola hooola hooooooola\"\n",
    "\n",
    "patrones= ['ho{7}la', 'ho{3}la']\n",
    "\n",
    "buscar(patrones, texto)"
   ]
  },
  {
   "cell_type": "code",
   "execution_count": 32,
   "metadata": {},
   "outputs": [
    {
     "name": "stdout",
     "output_type": "stream",
     "text": [
      "['hla', 'hola']\n",
      "['hola', 'hoola']\n",
      "['hoola', 'hooola', 'hooooooola']\n"
     ]
    }
   ],
   "source": [
    "texto = \"hla hola hoola hooola hooooooola\"\n",
    "\n",
    "patrones= ['ho{0,1}la', 'ho{1,2}la', 'ho{2,10}la']\n",
    "\n",
    "buscar(patrones, texto)"
   ]
  },
  {
   "cell_type": "code",
   "execution_count": 34,
   "metadata": {},
   "outputs": [
    {
     "name": "stdout",
     "output_type": "stream",
     "text": [
      "['hola', 'hula']\n",
      "['hala', 'hela', 'hila', 'hola', 'hula']\n"
     ]
    }
   ],
   "source": [
    "# Conjunto de caracteres\n",
    "\n",
    "texto = \"hala hela hila hola hula\"\n",
    "patrones = ['h[ou]la', 'h[aeiou]la']\n",
    "buscar(patrones,texto)"
   ]
  },
  {
   "cell_type": "code",
   "execution_count": 35,
   "metadata": {},
   "outputs": [
    {
     "name": "stdout",
     "output_type": "stream",
     "text": [
      "['hula']\n",
      "['hala', 'hula']\n"
     ]
    }
   ],
   "source": [
    "\n",
    "texto = \"hala heeela hiiiila hooooola hula\"\n",
    "patrones = ['h[ou]la', 'h[aeiou]la']\n",
    "buscar(patrones,texto)"
   ]
  },
  {
   "cell_type": "code",
   "execution_count": 37,
   "metadata": {},
   "outputs": [
    {
     "name": "stdout",
     "output_type": "stream",
     "text": [
      "['hala']\n",
      "['hala', 'heeela']\n",
      "['hiiiila', 'hooooola']\n"
     ]
    }
   ],
   "source": [
    "patrones = ['h[ae]la', 'h[ae]*la', 'h[io]{3,9}la']\n",
    "buscar(patrones,texto)"
   ]
  },
  {
   "cell_type": "code",
   "execution_count": 41,
   "metadata": {},
   "outputs": [
    {
     "name": "stdout",
     "output_type": "stream",
     "text": [
      "['hola']\n",
      "['hala', 'hela', 'hila', 'hula']\n"
     ]
    }
   ],
   "source": [
    "# Exclusion en conjunto [^] para busquedas contrarias\n",
    "texto = \"hala hela hila hola hula\"\n",
    "patrones = ['h[o]la', 'h[^o]la'] # Busca todas las letras excepto la O\n",
    "buscar(patrones,texto)"
   ]
  },
  {
   "cell_type": "code",
   "execution_count": 50,
   "metadata": {},
   "outputs": [
    {
     "name": "stdout",
     "output_type": "stream",
     "text": [
      "['hola']\n",
      "['h0la']\n",
      "['hola', 'Hola', 'mola', 'AAsA', 'BdsD']\n"
     ]
    }
   ],
   "source": [
    "# Rangos\n",
    "texto = \"hola h0la Hola mola m0la M0la AAsA BdsD\"\n",
    "patrones = ['h[a-z]la', 'h[0-9]la', '[A-z]{4}']\n",
    "\n",
    "buscar(patrones, texto)"
   ]
  },
  {
   "cell_type": "code",
   "execution_count": 53,
   "metadata": {},
   "outputs": [
    {
     "name": "stdout",
     "output_type": "stream",
     "text": [
      "['Hola', 'M0la', 'AAsA', 'BdsD']\n"
     ]
    }
   ],
   "source": [
    "# Rangos\n",
    "texto = \"hola h0la Hola mola m0la M0la AAsA BdsD\"\n",
    "patrones = ['[A-Z][A-z0-9]{3}']\n",
    "\n",
    "buscar(patrones, texto)"
   ]
  },
  {
   "cell_type": "code",
   "execution_count": 55,
   "metadata": {},
   "outputs": [
    {
     "name": "stdout",
     "output_type": "stream",
     "text": [
      "['3', '2', '0', '1', '6']\n"
     ]
    }
   ],
   "source": [
    "# Caracteres escapados\n",
    "'''\n",
    "\\d numerico\n",
    "\\D no numerico\n",
    "\\s espacio\n",
    "\\S no espacio en blanco\n",
    "\\w alfanumerico\n",
    "\\W no alfanumerico\n",
    "\n",
    "ES NECESARIO INDICAR LA LETRA r PARA INDICAR QUE ES UN TEXTO EN CRUDO (RAW):\n",
    "'''\n",
    "\n",
    "texto = \"Este curso de python 3 se publicó en el año 2016\"\n",
    "\n",
    "patrones = [r'\\d'] # Encuentra los valores numericos\n",
    "\n",
    "buscar(patrones, texto)"
   ]
  },
  {
   "cell_type": "code",
   "execution_count": 56,
   "metadata": {},
   "outputs": [
    {
     "name": "stdout",
     "output_type": "stream",
     "text": [
      "['3', '2016']\n"
     ]
    }
   ],
   "source": [
    "\n",
    "texto = \"Este curso de python 3 se publicó en el año 2016\"\n",
    "\n",
    "patrones = [r'\\d+'] # Encuentra los valores numericos que se repita 1 o MAS VECES\n",
    "\n",
    "buscar(patrones, texto)"
   ]
  },
  {
   "cell_type": "code",
   "execution_count": 57,
   "metadata": {},
   "outputs": [
    {
     "name": "stdout",
     "output_type": "stream",
     "text": [
      "['E', 's', 't', 'e', ' ', 'c', 'u', 'r', 's', 'o', ' ', 'd', 'e', ' ', 'p', 'y', 't', 'h', 'o', 'n', ' ', ' ', 's', 'e', ' ', 'p', 'u', 'b', 'l', 'i', 'c', 'ó', ' ', 'e', 'n', ' ', 'e', 'l', ' ', 'a', 'ñ', 'o', ' ']\n"
     ]
    }
   ],
   "source": [
    "texto = \"Este curso de python 3 se publicó en el año 2016\"\n",
    "\n",
    "patrones = [r'\\D'] # Encuentra los valores no numericos\n",
    "\n",
    "buscar(patrones, texto)"
   ]
  },
  {
   "cell_type": "code",
   "execution_count": 58,
   "metadata": {},
   "outputs": [
    {
     "name": "stdout",
     "output_type": "stream",
     "text": [
      "['Este curso de python ', ' se publicó en el año ']\n"
     ]
    }
   ],
   "source": [
    "texto = \"Este curso de python 3 se publicó en el año 2016\"\n",
    "\n",
    "patrones = [r'\\D+'] # Encuentra los valores no numericos. OJO se divide el string\n",
    "\n",
    "buscar(patrones, texto)"
   ]
  },
  {
   "cell_type": "code",
   "execution_count": 59,
   "metadata": {},
   "outputs": [
    {
     "name": "stdout",
     "output_type": "stream",
     "text": [
      "[' ', ' ', ' ', ' ', ' ', ' ', ' ', ' ', ' ', ' ']\n"
     ]
    }
   ],
   "source": [
    "texto = \"Este curso de python 3 se publicó en el año 2016\"\n",
    "\n",
    "patrones = [r'\\s'] # Encuentra los espacios\n",
    "\n",
    "buscar(patrones, texto)"
   ]
  },
  {
   "cell_type": "code",
   "execution_count": 62,
   "metadata": {},
   "outputs": [
    {
     "name": "stdout",
     "output_type": "stream",
     "text": [
      "['E', 's', 't', 'e', 'c', 'u', 'r', 's', 'o', 'd', 'e', 'p', 'y', 't', 'h', 'o', 'n', '3', 's', 'e', 'p', 'u', 'b', 'l', 'i', 'c', 'ó', 'e', 'n', 'e', 'l', 'a', 'ñ', 'o', '2', '0', '1', '6']\n"
     ]
    }
   ],
   "source": [
    "texto = \"Este curso de python 3 se publicó en el año 2016\"\n",
    "\n",
    "patrones = [r'\\S'] # Encuentra los valores excepto espacios\n",
    "\n",
    "buscar(patrones, texto)"
   ]
  },
  {
   "cell_type": "code",
   "execution_count": 63,
   "metadata": {},
   "outputs": [
    {
     "name": "stdout",
     "output_type": "stream",
     "text": [
      "['E', 's', 't', 'e', 'c', 'u', 'r', 's', 'o', 'd', 'e', 'p', 'y', 't', 'h', 'o', 'n', '3', 's', 'e', 'p', 'u', 'b', 'l', 'i', 'c', 'ó', 'e', 'n', 'e', 'l', 'a', 'ñ', 'o', '2', '0', '1', '6']\n"
     ]
    }
   ],
   "source": [
    "texto = \"Este curso de python 3 se publicó en el año 2016\"\n",
    "\n",
    "patrones = [r'\\w'] # Encuentra todos los caracteres sin importar si son numeros\n",
    "\n",
    "buscar(patrones, texto)"
   ]
  },
  {
   "cell_type": "code",
   "execution_count": 65,
   "metadata": {},
   "outputs": [
    {
     "name": "stdout",
     "output_type": "stream",
     "text": [
      "['Este', 'curso', 'de', 'python', '3', 'se', 'publicó', 'en', 'el', 'año', '2016']\n"
     ]
    }
   ],
   "source": [
    "texto = \"Este curso de python 3 se publicó en el año 2016\"\n",
    "\n",
    "patrones = [r'\\w+'] # Encuentra todoas las palabras que tengan una o mas alfanumericas\n",
    "\n",
    "buscar(patrones, texto)"
   ]
  },
  {
   "cell_type": "code",
   "execution_count": 67,
   "metadata": {},
   "outputs": [
    {
     "name": "stdout",
     "output_type": "stream",
     "text": [
      "[' ', ' ', ' ', ' ', ' ', ' ', ' ', ' ', ' ', ' ', ' ', ' ', ' ', ' ', ' ', ' ']\n"
     ]
    }
   ],
   "source": [
    "texto = \"Este curso de python 3 se       publicó en el año 2016\"\n",
    "\n",
    "patrones = [r'\\W'] # Encuentra todos los que no sean alfanumericos\n",
    "\n",
    "buscar(patrones, texto)"
   ]
  },
  {
   "cell_type": "code",
   "execution_count": 69,
   "metadata": {},
   "outputs": [
    {
     "name": "stdout",
     "output_type": "stream",
     "text": [
      "[' ', ' ', ' ', ' ', ' ', '       ', ' ', ' ', ' ', '  ']\n"
     ]
    }
   ],
   "source": [
    "texto = \"Este curso de python 3 se       publicó en el año  2016\"\n",
    "\n",
    "patrones = [r'\\W+'] # Encuentra todos los que no son alfanumericos que se repiten mas de una vez\n",
    "\n",
    "buscar(patrones, texto)"
   ]
  },
  {
   "cell_type": "code",
   "execution_count": null,
   "metadata": {},
   "outputs": [],
   "source": []
  }
 ],
 "metadata": {
  "anaconda-cloud": {},
  "kernelspec": {
   "display_name": "Python 3 (ipykernel)",
   "language": "python",
   "name": "python3"
  },
  "language_info": {
   "codemirror_mode": {
    "name": "ipython",
    "version": 3
   },
   "file_extension": ".py",
   "mimetype": "text/x-python",
   "name": "python",
   "nbconvert_exporter": "python",
   "pygments_lexer": "ipython3",
   "version": "3.8.2"
  }
 },
 "nbformat": 4,
 "nbformat_minor": 1
}
