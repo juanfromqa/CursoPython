{
 "cells": [
  {
   "cell_type": "markdown",
   "source": [
    "# Operadores encadenados"
   ],
   "metadata": {}
  },
  {
   "cell_type": "code",
   "execution_count": 2,
   "source": [
    "# De esta manera podemos juntar validaciones\n",
    "1 < 2 and 2 < 3\n"
   ],
   "outputs": [
    {
     "output_type": "execute_result",
     "data": {
      "text/plain": [
       "True"
      ]
     },
     "metadata": {},
     "execution_count": 2
    }
   ],
   "metadata": {
    "collapsed": true
   }
  },
  {
   "cell_type": "code",
   "execution_count": 3,
   "source": [
    "# Lo anterior es lo mismo que esto:\n",
    "1 < 2 < 3"
   ],
   "outputs": [
    {
     "output_type": "execute_result",
     "data": {
      "text/plain": [
       "True"
      ]
     },
     "metadata": {},
     "execution_count": 3
    }
   ],
   "metadata": {}
  },
  {
   "cell_type": "code",
   "execution_count": 9,
   "source": [
    "3 > 2 > 1"
   ],
   "outputs": [
    {
     "output_type": "execute_result",
     "data": {
      "text/plain": [
       "True"
      ]
     },
     "metadata": {},
     "execution_count": 9
    }
   ],
   "metadata": {}
  },
  {
   "cell_type": "code",
   "execution_count": 10,
   "source": [
    "(3 > 2) and (2 > 1)"
   ],
   "outputs": [
    {
     "output_type": "execute_result",
     "data": {
      "text/plain": [
       "True"
      ]
     },
     "metadata": {},
     "execution_count": 10
    }
   ],
   "metadata": {}
  },
  {
   "cell_type": "code",
   "execution_count": 12,
   "source": [
    "numero = -2 \n",
    "\n",
    "if 0 <=  numero <= 100:\n",
    "    print(\"El numero {} se encuentra entre 0 y 100\".format(numero))\n",
    "else: \n",
    "    print(\"EL numero {} está fuera de rango\".format(numero))"
   ],
   "outputs": [
    {
     "output_type": "stream",
     "name": "stdout",
     "text": [
      "EL numero -2 está fuera de rango\n"
     ]
    }
   ],
   "metadata": {}
  },
  {
   "cell_type": "code",
   "execution_count": 13,
   "source": [
    "# La siguiente manera evalua cada minima expresion p.e. 3>2>1 es igual a (3>2) and (2>1) se trata de encontrar un valor que se comparta\n",
    "numero =35\n",
    "\n",
    "if 0 <=  numero <= 100:\n",
    "    print(\"El numero {} se encuentra entre 0 y 100\".format(numero))\n",
    "else: \n",
    "    print(\"EL numero {} está fuera de rango\".format(numero))"
   ],
   "outputs": [
    {
     "output_type": "error",
     "ename": "SyntaxError",
     "evalue": "invalid syntax (2419599497.py, line 4)",
     "traceback": [
      "\u001b[0;36m  File \u001b[0;32m\"/var/folders/00/n44ssc9j3vv32t1w3w2j7hm00000gn/T/ipykernel_11447/2419599497.py\"\u001b[0;36m, line \u001b[0;32m4\u001b[0m\n\u001b[0;31m    if numero >= 0 numero <= 100:\u001b[0m\n\u001b[0m                   ^\u001b[0m\n\u001b[0;31mSyntaxError\u001b[0m\u001b[0;31m:\u001b[0m invalid syntax\n"
     ]
    }
   ],
   "metadata": {}
  }
 ],
 "metadata": {
  "anaconda-cloud": {},
  "kernelspec": {
   "name": "python3",
   "display_name": "Python 3.8.2 64-bit"
  },
  "language_info": {
   "codemirror_mode": {
    "name": "ipython",
    "version": 3
   },
   "file_extension": ".py",
   "mimetype": "text/x-python",
   "name": "python",
   "nbconvert_exporter": "python",
   "pygments_lexer": "ipython3",
   "version": "3.8.2"
  },
  "interpreter": {
   "hash": "31f2aee4e71d21fbe5cf8b01ff0e069b9275f58929596ceb00d14d90e3e16cd6"
  }
 },
 "nbformat": 4,
 "nbformat_minor": 2
}