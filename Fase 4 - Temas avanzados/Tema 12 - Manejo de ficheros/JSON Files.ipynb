{
 "cells": [
  {
   "cell_type": "code",
   "execution_count": 1,
   "id": "58fa48a9",
   "metadata": {},
   "outputs": [],
   "source": [
    "import json\n",
    "\n",
    "contactos = [\n",
    "    (\"Manuel\", \"Desarrollador Web\", \"manuel@ejemplo.com\"),\n",
    "    (\"Lorena\", \"Gestora de proyectos\", \"lorena@ejemplo.com\"),\n",
    "    (\"Javier\", \"Analista de datos\", \"javier@ejemplo.com\"),\n",
    "    (\"Marta\", \"Experta en Python\", \"marta@ejemplo.com\")\n",
    "]\n",
    "\n",
    "datos = []\n",
    "\n",
    "for nombre, empleo, email in contactos:\n",
    "    datos.append({\"nombre\":nombre, \"empleo\":empleo, \"email\":email})\n",
    "\n",
    "with open(\"contactos.json\", \"w\") as jsonfile:\n",
    "    json.dump(datos, jsonfile)"
   ]
  },
  {
   "cell_type": "code",
   "execution_count": 2,
   "id": "67f30ba5",
   "metadata": {},
   "outputs": [],
   "source": [
    "datos = None"
   ]
  },
  {
   "cell_type": "code",
   "execution_count": 5,
   "id": "e5e1660c",
   "metadata": {},
   "outputs": [
    {
     "name": "stdout",
     "output_type": "stream",
     "text": [
      "Manuel manuel@ejemplo.com manuel@ejemplo.com\n",
      "Lorena lorena@ejemplo.com lorena@ejemplo.com\n",
      "Javier javier@ejemplo.com javier@ejemplo.com\n",
      "Marta marta@ejemplo.com marta@ejemplo.com\n"
     ]
    }
   ],
   "source": [
    "with open(\"contactos.json\") as jsonfile:\n",
    "    datos = json.load(jsonfile)\n",
    "    for contacto in datos:\n",
    "        print(contacto['nombre'], contacto['email'],contacto['email'])"
   ]
  },
  {
   "cell_type": "code",
   "execution_count": null,
   "id": "3b1d22e9",
   "metadata": {},
   "outputs": [],
   "source": []
  }
 ],
 "metadata": {
  "kernelspec": {
   "display_name": "Python 3",
   "language": "python",
   "name": "python3"
  },
  "language_info": {
   "codemirror_mode": {
    "name": "ipython",
    "version": 3
   },
   "file_extension": ".py",
   "mimetype": "text/x-python",
   "name": "python",
   "nbconvert_exporter": "python",
   "pygments_lexer": "ipython3",
   "version": "3.9.5"
  }
 },
 "nbformat": 4,
 "nbformat_minor": 5
}
