{
 "cells": [
  {
   "cell_type": "markdown",
   "id": "5c5fd0ed",
   "metadata": {},
   "source": [
    "# Ficheros CSV\n",
    "### Valores separados por comas\n",
    "Documentación: https://docs.python.org/3/library/csv.html"
   ]
  },
  {
   "cell_type": "markdown",
   "id": "4057151d",
   "metadata": {},
   "source": [
    "#### Escritura de listas en CSV:"
   ]
  },
  {
   "cell_type": "code",
   "execution_count": 2,
   "id": "9fe06b26",
   "metadata": {},
   "outputs": [],
   "source": [
    "import csv\n",
    "\n",
    "contactos = [\n",
    "    (\"Manuel\", \"Desarrollador Web\", \"manuel@ejemplo.com\"),\n",
    "    (\"Lorena\", \"Gestora de proyectos\", \"lorena@ejemplo.com\"),\n",
    "    (\"Javier\", \"Analista de datos\", \"javier@ejemplo.com\"),\n",
    "    (\"Marta\", \"Experta en Python\", \"marta@ejemplo.com\")\n",
    "]\n",
    "\n",
    "with open(\"contactos.csv\", \"w\", newline=\"\\n\") as csvfile: # permite abrir un archivo dentroi de un blocque y no se necesita cerrar manualmente\n",
    "    writer = csv.writer(csvfile, delimiter=\",\")\n",
    "    for contacto in contactos:\n",
    "        writer.writerow(contacto)"
   ]
  },
  {
   "cell_type": "markdown",
   "id": "e3beb0ec",
   "metadata": {},
   "source": [
    "#### Lectura de listas en CSV:"
   ]
  },
  {
   "cell_type": "code",
   "execution_count": 3,
   "id": "57b3f395",
   "metadata": {},
   "outputs": [
    {
     "name": "stdout",
     "output_type": "stream",
     "text": [
      "Manuel Desarrollador Web manuel@ejemplo.com\n",
      "Lorena Gestora de proyectos lorena@ejemplo.com\n",
      "Javier Analista de datos javier@ejemplo.com\n",
      "Marta Experta en Python marta@ejemplo.com\n"
     ]
    }
   ],
   "source": [
    "with open(\"contactos.csv\", newline=\"\\n\") as csvfile:\n",
    "    reader = csv.reader(csvfile, delimiter=\",\")\n",
    "    for nombre, empleo, email in reader:\n",
    "        print(nombre, empleo, email)"
   ]
  },
  {
   "cell_type": "code",
   "execution_count": 4,
   "id": "8d664eef",
   "metadata": {},
   "outputs": [],
   "source": [
    "import csv\n",
    "\n",
    "contactos = [\n",
    "    (\"Manuel\", \"Desarrollador Web\", \"manuel@ejemplo.com\"),\n",
    "    (\"Lorena\", \"Gestora de proyectos\", \"lorena@ejemplo.com\"),\n",
    "    (\"Javier\", \"Analista de datos\", \"javier@ejemplo.com\"),\n",
    "    (\"Marta\", \"Experta en Python\", \"marta@ejemplo.com\")\n",
    "]\n",
    "\n",
    "with open(\"contactos.csv\", \"w\", newline=\"\\n\") as csvfile:\n",
    "    campos = [\"nombre\", \"empleo\", \"email\"] # Nombres de los cambpos\n",
    "    writer = csv.DictWriter(csvfile, fieldnames=campos) #ES LO QUE CAMBIA----------------\n",
    "    writer.writeheader() # Escribe el nombre de las columnas\n",
    "    for nombre, empleo, email in contactos: # Se puede obtener el nombre de los campos directamente\n",
    "        writer.writerow({\n",
    "            \"nombre\": nombre, \"empleo\": empleo, \"email\": email\n",
    "        })"
   ]
  },
  {
   "cell_type": "code",
   "execution_count": 5,
   "id": "06d7a12c",
   "metadata": {},
   "outputs": [
    {
     "name": "stdout",
     "output_type": "stream",
     "text": [
      "Manuel Desarrollador Web manuel@ejemplo.com\n",
      "Lorena Gestora de proyectos lorena@ejemplo.com\n",
      "Javier Analista de datos javier@ejemplo.com\n",
      "Marta Experta en Python marta@ejemplo.com\n"
     ]
    }
   ],
   "source": [
    "with open(\"contactos.csv\", newline=\"\\n\") as csvfile:\n",
    "    reader = csv.DictReader(csvfile) # Esto es lo que cambia\n",
    "    for contacto in reader:\n",
    "        print(contacto[\"nombre\"], contacto[\"empleo\"], contacto[\"email\"]) # Ya que es un diccionar se accede por sus claves"
   ]
  },
  {
   "cell_type": "code",
   "execution_count": null,
   "id": "f59ddd15",
   "metadata": {},
   "outputs": [],
   "source": []
  }
 ],
 "metadata": {
  "kernelspec": {
   "display_name": "Python 3",
   "language": "python",
   "name": "python3"
  },
  "language_info": {
   "codemirror_mode": {
    "name": "ipython",
    "version": 3
   },
   "file_extension": ".py",
   "mimetype": "text/x-python",
   "name": "python",
   "nbconvert_exporter": "python",
   "pygments_lexer": "ipython3",
   "version": "3.9.5"
  }
 },
 "nbformat": 4,
 "nbformat_minor": 5
}
