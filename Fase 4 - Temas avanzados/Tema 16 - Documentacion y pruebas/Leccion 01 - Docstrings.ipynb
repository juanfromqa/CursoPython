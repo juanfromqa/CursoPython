{
 "cells": [
  {
   "cell_type": "markdown",
   "source": [
    "# Docstrings"
   ],
   "metadata": {}
  },
  {
   "cell_type": "code",
   "execution_count": 3,
   "source": [
    "def hola(arg):\n",
    "    \"\"\"\"Ese es el docstring de la funcion\"\"\"\n",
    "    print(\"Hola\",arg,\"!\")\n",
    "\n",
    "hola(\"Juan\")"
   ],
   "outputs": [
    {
     "output_type": "stream",
     "name": "stdout",
     "text": [
      "Hola Juan !\n"
     ]
    }
   ],
   "metadata": {
    "collapsed": true
   }
  },
  {
   "cell_type": "code",
   "execution_count": 4,
   "source": [
    "help(hola)"
   ],
   "outputs": [
    {
     "output_type": "stream",
     "name": "stdout",
     "text": [
      "Help on function hola in module __main__:\n",
      "\n",
      "hola(arg)\n",
      "    \"Ese es el docstring de la funcion\n",
      "\n"
     ]
    }
   ],
   "metadata": {}
  },
  {
   "cell_type": "code",
   "execution_count": 5,
   "source": [
    "class Clase:\n",
    "    \"\"\"Este es el docstring de la clase\"\"\"\n",
    "    def __init__(self) -> None:\n",
    "        \"\"\"Este es el docstring del init\"\"\"\n",
    "        pass\n",
    "\n",
    "    def metodo(self):\n",
    "        \"\"\"Este es el docstring del segundo metodo\"\"\"\n",
    "        pass"
   ],
   "outputs": [],
   "metadata": {}
  },
  {
   "cell_type": "code",
   "execution_count": 6,
   "source": [
    "o = Clase()\n",
    "help(o)"
   ],
   "outputs": [
    {
     "output_type": "stream",
     "name": "stdout",
     "text": [
      "Help on Clase in module __main__ object:\n",
      "\n",
      "class Clase(builtins.object)\n",
      " |  Clase() -> None\n",
      " |  \n",
      " |  Este es el docstring de la clase\n",
      " |  \n",
      " |  Methods defined here:\n",
      " |  \n",
      " |  __init__(self) -> None\n",
      " |      Este es el docstring del init\n",
      " |  \n",
      " |  metodo(self)\n",
      " |      Este es el docstring del segundo metodo\n",
      " |  \n",
      " |  ----------------------------------------------------------------------\n",
      " |  Data descriptors defined here:\n",
      " |  \n",
      " |  __dict__\n",
      " |      dictionary for instance variables (if defined)\n",
      " |  \n",
      " |  __weakref__\n",
      " |      list of weak references to the object (if defined)\n",
      "\n"
     ]
    }
   ],
   "metadata": {}
  },
  {
   "cell_type": "code",
   "execution_count": 7,
   "source": [
    "import mi_modulo"
   ],
   "outputs": [],
   "metadata": {}
  },
  {
   "cell_type": "code",
   "execution_count": 9,
   "source": [
    "help(mi_modulo.despedir)"
   ],
   "outputs": [
    {
     "output_type": "stream",
     "name": "stdout",
     "text": [
      "Help on function despedir in module mi_modulo:\n",
      "\n",
      "despedir()\n",
      "    docstring de la funcion despedir del modulo\n",
      "\n"
     ]
    }
   ],
   "metadata": {}
  },
  {
   "cell_type": "code",
   "execution_count": 10,
   "source": [
    "mi_modulo.__name__"
   ],
   "outputs": [
    {
     "output_type": "execute_result",
     "data": {
      "text/plain": [
       "'mi_modulo'"
      ]
     },
     "metadata": {},
     "execution_count": 10
    }
   ],
   "metadata": {}
  },
  {
   "cell_type": "code",
   "execution_count": 11,
   "source": [
    "mi_modulo.__doc__"
   ],
   "outputs": [
    {
     "output_type": "execute_result",
     "data": {
      "text/plain": [
       "'docstring del modulo'"
      ]
     },
     "metadata": {},
     "execution_count": 11
    }
   ],
   "metadata": {}
  },
  {
   "cell_type": "code",
   "execution_count": 12,
   "source": [
    "import mi_paquete\n",
    "help(mi_paquete)"
   ],
   "outputs": [
    {
     "output_type": "stream",
     "name": "stdout",
     "text": [
      "Help on package mi_paquete:\n",
      "\n",
      "NAME\n",
      "    mi_paquete - Este es el docstring de mi paquete\n",
      "\n",
      "PACKAGE CONTENTS\n",
      "    adios (package)\n",
      "    hola (package)\n",
      "\n",
      "FILE\n",
      "    /Users/juan/Documents/CursoPython/CursoPython/Fase 4 - Temas avanzados/Tema 16 - Documentacion y pruebas/mi_paquete/__init__.py\n",
      "\n",
      "\n"
     ]
    }
   ],
   "metadata": {}
  },
  {
   "cell_type": "code",
   "execution_count": null,
   "source": [],
   "outputs": [],
   "metadata": {}
  },
  {
   "cell_type": "markdown",
   "source": [
    "### docstring debe responder a las preguntas: Que hace y como se utiliza?"
   ],
   "metadata": {}
  },
  {
   "cell_type": "markdown",
   "source": [
    "Para generar archivos HTML con la documentacion es necesario ejecutar en conmsola\n",
    "\n",
    "pydoc -w mi_paquete .\\ \n",
    "\n"
   ],
   "metadata": {}
  }
 ],
 "metadata": {
  "anaconda-cloud": {},
  "kernelspec": {
   "name": "python3",
   "display_name": "Python 3.8.2 64-bit"
  },
  "language_info": {
   "codemirror_mode": {
    "name": "ipython",
    "version": 3
   },
   "file_extension": ".py",
   "mimetype": "text/x-python",
   "name": "python",
   "nbconvert_exporter": "python",
   "pygments_lexer": "ipython3",
   "version": "3.8.2"
  },
  "interpreter": {
   "hash": "31f2aee4e71d21fbe5cf8b01ff0e069b9275f58929596ceb00d14d90e3e16cd6"
  }
 },
 "nbformat": 4,
 "nbformat_minor": 1
}