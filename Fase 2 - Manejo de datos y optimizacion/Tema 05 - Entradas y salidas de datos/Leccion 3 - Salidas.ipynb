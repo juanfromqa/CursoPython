{
 "cells": [
  {
   "cell_type": "code",
   "execution_count": 1,
   "metadata": {},
   "outputs": [
    {
     "name": "stdout",
     "output_type": "stream",
     "text": [
      "Un texto  otro texto y un numero  10\n"
     ]
    }
   ],
   "source": [
    "v = \"otro texto\"\n",
    "n = 10\n",
    "print(\"Un texto \",v,\"y un numero \", n)"
   ]
  },
  {
   "cell_type": "code",
   "execution_count": 2,
   "metadata": {},
   "outputs": [
    {
     "data": {
      "text/plain": [
       "'Un texto otro texto y un numero 10'"
      ]
     },
     "execution_count": 2,
     "metadata": {},
     "output_type": "execute_result"
    }
   ],
   "source": [
    "c = \"Un texto {} y un numero {}\".format(v,n)\n",
    "c"
   ]
  },
  {
   "cell_type": "code",
   "execution_count": 3,
   "metadata": {},
   "outputs": [
    {
     "name": "stdout",
     "output_type": "stream",
     "text": [
      "Un texto 10 y un numero otro texto\n"
     ]
    }
   ],
   "source": [
    "print(\"Un texto {1} y un numero {0}\".format(v,n))"
   ]
  },
  {
   "cell_type": "code",
   "execution_count": 4,
   "metadata": {},
   "outputs": [
    {
     "name": "stdout",
     "output_type": "stream",
     "text": [
      "Un texto otro texto y un numero 10\n"
     ]
    }
   ],
   "source": [
    "print(\"Un texto {texto} y un numero {numero}\".format(texto=v,numero=n))"
   ]
  },
  {
   "cell_type": "code",
   "execution_count": 5,
   "metadata": {},
   "outputs": [
    {
     "name": "stdout",
     "output_type": "stream",
     "text": [
      "Un texto otro texto y un numero 10\n"
     ]
    }
   ],
   "source": [
    "print(\"Un texto {t} y un numero {n}\".format(t=v,n=n)) "
   ]
  },
  {
   "cell_type": "code",
   "execution_count": 6,
   "metadata": {},
   "outputs": [
    {
     "name": "stdout",
     "output_type": "stream",
     "text": [
      "                       palabra\n"
     ]
    }
   ],
   "source": [
    "# Format permite modificar al vuelo como se muestran los valores\n",
    "print(\"{:>30}\".format(\"palabra\"))"
   ]
  },
  {
   "cell_type": "code",
   "execution_count": 9,
   "metadata": {},
   "outputs": [
    {
     "name": "stdout",
     "output_type": "stream",
     "text": [
      "palabra                       \n"
     ]
    }
   ],
   "source": [
    "print(\"{:30}\".format(\"palabra\")) ## Se crean los 30 espacios a la derecha de la palabra"
   ]
  },
  {
   "cell_type": "code",
   "execution_count": 12,
   "metadata": {},
   "outputs": [
    {
     "name": "stdout",
     "output_type": "stream",
     "text": [
      "           palabra            \n"
     ]
    }
   ],
   "source": [
    "print(\"{:^30}\".format(\"palabra\")) # alineamiento al centro"
   ]
  },
  {
   "cell_type": "code",
   "execution_count": 15,
   "metadata": {},
   "outputs": [
    {
     "name": "stdout",
     "output_type": "stream",
     "text": [
      "otr\n"
     ]
    }
   ],
   "source": [
    "print(\"{0:.3}\".format(v)) # Truncamiento"
   ]
  },
  {
   "cell_type": "code",
   "execution_count": 16,
   "metadata": {},
   "outputs": [
    {
     "name": "stdout",
     "output_type": "stream",
     "text": [
      "10\n",
      "100\n",
      "1000\n"
     ]
    }
   ],
   "source": [
    "# Formateo de numeros enteros, rellenados con espacios\n",
    "print(\"{}\".format(10))\n",
    "print(\"{}\".format(100))\n",
    "print(\"{}\".format(1000))"
   ]
  },
  {
   "cell_type": "code",
   "execution_count": 26,
   "metadata": {},
   "outputs": [
    {
     "name": "stdout",
     "output_type": "stream",
     "text": [
      "10\n",
      " 100\n",
      "1000\n"
     ]
    }
   ],
   "source": [
    "#asi queda:\n",
    "\n",
    "print(\"{:4d}\".format(10))\n",
    "print(\"{:4d}\".format(100))\n",
    "print(\"{:4d}\".format(1000))"
   ]
  },
  {
   "cell_type": "code",
   "execution_count": 19,
   "metadata": {},
   "outputs": [
    {
     "name": "stdout",
     "output_type": "stream",
     "text": [
      "0010\n",
      "0100\n",
      "1000\n"
     ]
    }
   ],
   "source": [
    "# Para rellenar con ceros:\n",
    "print(\"{:04d}\".format(10))\n",
    "print(\"{:04d}\".format(100))\n",
    "print(\"{:04d}\".format(1000))"
   ]
  },
  {
   "cell_type": "code",
   "execution_count": 24,
   "metadata": {},
   "outputs": [
    {
     "name": "stdout",
     "output_type": "stream",
     "text": [
      "  3.124\n",
      "332.124\n"
     ]
    }
   ],
   "source": [
    "print(\"{:7.3f}\".format(3.12412312))\n",
    "print(\"{:7.3f}\".format(332.12412312))"
   ]
  },
  {
   "cell_type": "code",
   "execution_count": null,
   "metadata": {},
   "outputs": [],
   "source": []
  }
 ],
 "metadata": {
  "kernelspec": {
   "display_name": "Python 3",
   "language": "python",
   "name": "python3"
  },
  "language_info": {
   "codemirror_mode": {
    "name": "ipython",
    "version": 3
   },
   "file_extension": ".py",
   "mimetype": "text/x-python",
   "name": "python",
   "nbconvert_exporter": "python",
   "pygments_lexer": "ipython3",
   "version": "3.9.5"
  }
 },
 "nbformat": 4,
 "nbformat_minor": 1
}
