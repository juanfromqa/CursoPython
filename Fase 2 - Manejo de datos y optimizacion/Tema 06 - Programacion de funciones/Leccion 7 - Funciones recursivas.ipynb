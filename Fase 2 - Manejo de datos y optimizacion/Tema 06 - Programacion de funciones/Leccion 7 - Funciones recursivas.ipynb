{
 "cells": [
  {
   "cell_type": "code",
   "execution_count": 3,
   "metadata": {},
   "outputs": [
    {
     "name": "stdout",
     "output_type": "stream",
     "text": [
      "9\n",
      "8\n",
      "7\n",
      "6\n",
      "5\n",
      "4\n",
      "3\n",
      "2\n",
      "1\n",
      "Boooooom!\n",
      "Fin de la funcion 0\n",
      "Fin de la funcion 1\n",
      "Fin de la funcion 2\n",
      "Fin de la funcion 3\n",
      "Fin de la funcion 4\n",
      "Fin de la funcion 5\n",
      "Fin de la funcion 6\n",
      "Fin de la funcion 7\n",
      "Fin de la funcion 8\n",
      "Fin de la funcion 9\n"
     ]
    }
   ],
   "source": [
    "def cuenta_atras(num):\n",
    "    num -= 1\n",
    "    if num > 0:\n",
    "        print(num)\n",
    "        cuenta_atras(num) # Funcion recursiva\n",
    "    else:\n",
    "        print(\"Boooooom!\")\n",
    "    print(\"Fin de la funcion\", num) # Se terminan en el orden inverso\n",
    "        \n",
    "cuenta_atras(10)"
   ]
  },
  {
   "cell_type": "code",
   "execution_count": 7,
   "metadata": {},
   "outputs": [
    {
     "name": "stdout",
     "output_type": "stream",
     "text": [
      "Valor inicial -> 5\n",
      "Valor inicial -> 4\n",
      "Valor inicial -> 3\n",
      "Valor inicial -> 2\n",
      "Valor inicial -> 1\n",
      "Valor final -> 1\n",
      "Valor final -> 2\n",
      "Valor final -> 6\n",
      "Valor final -> 24\n",
      "Valor final -> 120\n"
     ]
    },
    {
     "data": {
      "text/plain": [
       "120"
      ]
     },
     "execution_count": 7,
     "metadata": {},
     "output_type": "execute_result"
    }
   ],
   "source": [
    "def factorial(num):\n",
    "    print(\"Valor inicial ->\", num)\n",
    "    if num > 1:\n",
    "        num = num * factorial(num-1)\n",
    "    print(\"Valor final ->\", num)\n",
    "    return num\n",
    "\n",
    "factorial(5)"
   ]
  },
  {
   "cell_type": "code",
   "execution_count": 4,
   "metadata": {},
   "outputs": [
    {
     "name": "stdout",
     "output_type": "stream",
     "text": [
      "5\n",
      "4\n",
      "3\n",
      "2\n",
      "1\n",
      "0\n"
     ]
    },
    {
     "data": {
      "text/plain": [
       "5"
      ]
     },
     "execution_count": 4,
     "metadata": {},
     "output_type": "execute_result"
    }
   ],
   "source": [
    "# Completa el ejercicio\n",
    "def sumatorio(numero): #5\n",
    "    resultado = numero\n",
    "    print(resultado)\n",
    "    if numero > 0: #3 TRUE\n",
    "        # print(numero)\n",
    "        # suma = suma + numero # 5 = 5 + 5 \n",
    "        sumatorio(numero-1)\n",
    "        resultado = resultado + numero\n",
    "    \n",
    "    return numero\n",
    "        \n",
    " \n",
    "sumatorio(5)"
   ]
  },
  {
   "cell_type": "code",
   "execution_count": null,
   "metadata": {},
   "outputs": [],
   "source": []
  },
  {
   "cell_type": "code",
   "execution_count": null,
   "metadata": {},
   "outputs": [],
   "source": []
  }
 ],
 "metadata": {
  "kernelspec": {
   "display_name": "Python 3",
   "language": "python",
   "name": "python3"
  },
  "language_info": {
   "codemirror_mode": {
    "name": "ipython",
    "version": 3
   },
   "file_extension": ".py",
   "mimetype": "text/x-python",
   "name": "python",
   "nbconvert_exporter": "python",
   "pygments_lexer": "ipython3",
   "version": "3.9.5"
  }
 },
 "nbformat": 4,
 "nbformat_minor": 1
}
