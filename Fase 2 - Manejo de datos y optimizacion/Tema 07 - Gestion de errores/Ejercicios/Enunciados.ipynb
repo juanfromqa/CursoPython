{
 "cells": [
  {
   "cell_type": "markdown",
   "metadata": {},
   "source": [
    "# Tema 07: Gestión de errores (Enunciados)\n",
    "*Nota: Estos ejercicios son optativos para hacer al final de la unidad y están pensados para apoyar tu aprendizaje*."
   ]
  },
  {
   "cell_type": "markdown",
   "metadata": {},
   "source": [
    "**1) Localiza el error en el siguiente bloque de código. Crea una excepción para evitar que el programa se bloquee y además explica en un mensaje al usuario la causa y/o solución:**"
   ]
  },
  {
   "cell_type": "code",
   "execution_count": 3,
   "metadata": {},
   "outputs": [
    {
     "name": "stdout",
     "output_type": "stream",
     "text": [
      "No es posible dividir por cero\n"
     ]
    }
   ],
   "source": [
    "# Completa el ejercicio aquí\n",
    "try:\n",
    "    resultado = 10/0\n",
    "except ZeroDivisionError:\n",
    "    print(\"No es posible dividir entre cero\")\n"
   ]
  },
  {
   "cell_type": "markdown",
   "metadata": {},
   "source": [
    "**2) Localiza el error en el siguiente bloque de código.  Crea una excepción para evitar que el programa se bloquee y además explica en un mensaje al usuario la causa y/o solución:**"
   ]
  },
  {
   "cell_type": "code",
   "execution_count": 7,
   "metadata": {},
   "outputs": [
    {
     "name": "stdout",
     "output_type": "stream",
     "text": [
      "El indice indicado no existe\n"
     ]
    }
   ],
   "source": [
    "# Completa el ejercicio aquí\n",
    "try:\n",
    "    lista = [1, 2, 3, 4, 5]\n",
    "    lista[10]\n",
    "except IndexError:\n",
    "    print(\"El indice indicado no existe\")"
   ]
  },
  {
   "cell_type": "markdown",
   "metadata": {},
   "source": [
    "**3) Localiza el error en el siguiente bloque de código.  Crea una excepción para evitar que el programa se bloquee y además explica en un mensaje al usuario la causa y/o solución:**"
   ]
  },
  {
   "cell_type": "code",
   "execution_count": 9,
   "metadata": {},
   "outputs": [
    {
     "name": "stdout",
     "output_type": "stream",
     "text": [
      "Elige un color válido: rojo, negro o verde\n"
     ]
    }
   ],
   "source": [
    "# Completa el ejercicio aquí\n",
    "try:\n",
    "    colores = { 'rojo':'red', 'verde':'green', 'negro':'black' } \n",
    "    colores['blanco']\n",
    "except KeyError:\n",
    "    print(\"Elige un color válido: rojo, negro o verde\")"
   ]
  },
  {
   "cell_type": "markdown",
   "metadata": {},
   "source": [
    "**4) Localiza el error en el siguiente bloque de código.  Crea una excepción para evitar que el programa se bloquee y además explica en un mensaje al usuario la causa y/o solución:**"
   ]
  },
  {
   "cell_type": "code",
   "execution_count": 10,
   "metadata": {},
   "outputs": [
    {
     "name": "stdout",
     "output_type": "stream",
     "text": [
      "No es posible sumar un string con un entero\n"
     ]
    }
   ],
   "source": [
    "# Completa el ejercicio aquí\n",
    "try:\n",
    "    resultado = 15 + \"20\"\n",
    "except TypeError:\n",
    "    print(\"No es posible sumar un string con un entero\")"
   ]
  },
  {
   "cell_type": "markdown",
   "metadata": {},
   "source": [
    "**5) Realiza una función llamada agregar_una_vez() que reciba una lista y un elemento. La función debe añadir el elemento al final de la lista con la condición de no repetir ningún elemento. Además si este elemento ya se encuentra en la lista se debe invocar un error de tipo ValueError que debes capturar y mostrar este mensaje en su lugar:**\n",
    "\n",
    "```\n",
    "  Error: Imposible añadir elementos duplicados => [elemento].\n",
    "```\n",
    "** Prueba de agregar los elementos 10, -2, \"Hola\" a la lista de elementos con la función una vez la has creado y luego muestra su contenido.**\n",
    "\n",
    "*Nota: Puedes utilizar la sintaxis: elemento in lista*"
   ]
  },
  {
   "cell_type": "code",
   "execution_count": 29,
   "metadata": {},
   "outputs": [
    {
     "name": "stdout",
     "output_type": "stream",
     "text": [
      "[1, 5, -2, 10]\n"
     ]
    }
   ],
   "source": [
    "elementos = [1, 5, -2]\n",
    "\n",
    "# Completa el ejercicio aquí\n",
    "def agregar_una_vez(elementos, e): \n",
    "        for indice,elem in enumerate(elementos):\n",
    "            if e not in elementos:\n",
    "                try:\n",
    "                    elementos.extend([e])\n",
    "                    break\n",
    "                except:\n",
    "                    \n",
    "            else:\n",
    "                except ValueError:\n",
    "                    print(\"Error: Imposible añadir elementos duplicados => \", elem)\n",
    "\n",
    "agregar_una_vez(elementos, 10)\n",
    "print(elementos)\n"
   ]
  },
  {
   "cell_type": "code",
   "execution_count": 65,
   "metadata": {},
   "outputs": [
    {
     "name": "stdout",
     "output_type": "stream",
     "text": [
      "Error: Imposible añadir elementos duplicados => [-2]\n",
      "[1, 5, -2, -10, 'Hola']\n"
     ]
    }
   ],
   "source": [
    "elementos = [1,5,-2]\n",
    "# Completa el ejercicio aquí\n",
    "def agregar_una_vez(elementos, e): \n",
    "\n",
    "            try:\n",
    "                if e in elementos:\n",
    "                    raise ValueError()\n",
    "                else:\n",
    "                    elementos.extend([e])\n",
    "                    \n",
    "            except ValueError:\n",
    "                print(\"Error: Imposible añadir elementos duplicados => [{}]\".format(e))\n",
    "                               \n",
    "\n",
    "agregar_una_vez(elementos, -10)\n",
    "agregar_una_vez(elementos, -2)\n",
    "agregar_una_vez(elementos, \"Hola\")\n",
    "print(elementos)"
   ]
  },
  {
   "cell_type": "code",
   "execution_count": 61,
   "metadata": {},
   "outputs": [],
   "source": []
  },
  {
   "cell_type": "code",
   "execution_count": null,
   "metadata": {},
   "outputs": [],
   "source": []
  }
 ],
 "metadata": {
  "anaconda-cloud": {},
  "kernelspec": {
   "display_name": "Python 3",
   "language": "python",
   "name": "python3"
  },
  "language_info": {
   "codemirror_mode": {
    "name": "ipython",
    "version": 3
   },
   "file_extension": ".py",
   "mimetype": "text/x-python",
   "name": "python",
   "nbconvert_exporter": "python",
   "pygments_lexer": "ipython3",
   "version": "3.9.5"
  }
 },
 "nbformat": 4,
 "nbformat_minor": 1
}
