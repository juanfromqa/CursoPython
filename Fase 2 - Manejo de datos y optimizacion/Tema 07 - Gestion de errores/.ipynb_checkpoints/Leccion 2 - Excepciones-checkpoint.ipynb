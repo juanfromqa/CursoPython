{
 "cells": [
  {
   "cell_type": "code",
   "execution_count": 3,
   "metadata": {},
   "outputs": [
    {
     "name": "stdout",
     "output_type": "stream",
     "text": [
      "Ingresa un número:asd\n",
      "Ha ocurrido un error, introduce un número\n",
      "Ingresa un número:asd\n",
      "Ha ocurrido un error, introduce un número\n",
      "Ingresa un número:asd\n",
      "Ha ocurrido un error, introduce un número\n",
      "Ingresa un número:123123\n",
      "123123.0/4=30780.75\n"
     ]
    }
   ],
   "source": [
    "while(True):\n",
    "    try:\n",
    "        n = float(input(\"Ingresa un número:\" ))\n",
    "        m = 4\n",
    "        print(\"{}/{}={}\".format(n,m,n/m))\n",
    "        break # IMPORTANTE romper la iteracion si todo ha salido bien -----\n",
    "    except:\n",
    "        print(\"Ha ocurrido un error, introduce un número\")"
   ]
  },
  {
   "cell_type": "code",
   "execution_count": 4,
   "metadata": {},
   "outputs": [
    {
     "name": "stdout",
     "output_type": "stream",
     "text": [
      "Ingresa un número:asd\n",
      "Ha ocurrido un error, introduce un número\n",
      "Ingresa un número:121\n",
      "121.0/4=30.25\n",
      "Todo ha funcionado correctamente\n"
     ]
    }
   ],
   "source": [
    "while(True):\n",
    "    try:\n",
    "        n = float(input(\"Ingresa un número:\" ))\n",
    "        m = 4\n",
    "        print(\"{}/{}={}\".format(n,m,n/m))\n",
    "    except:\n",
    "        print(\"Ha ocurrido un error, introduce un número\")\n",
    "    else: # Siempre se va a ejecutar si todo sale bien en el bloque del catch\n",
    "        print(\"Todo ha funcionado correctamente\")\n",
    "        break\n",
    "    finally:\n",
    "        print(\"Fin de la iteración\") # Se va a ejecutar ocurra o no ocurra un error"
   ]
  },
  {
   "cell_type": "code",
   "execution_count": null,
   "metadata": {},
   "outputs": [],
   "source": []
  }
 ],
 "metadata": {
  "kernelspec": {
   "display_name": "Python 3",
   "language": "python",
   "name": "python3"
  },
  "language_info": {
   "codemirror_mode": {
    "name": "ipython",
    "version": 3
   },
   "file_extension": ".py",
   "mimetype": "text/x-python",
   "name": "python",
   "nbconvert_exporter": "python",
   "pygments_lexer": "ipython3",
   "version": "3.9.5"
  }
 },
 "nbformat": 4,
 "nbformat_minor": 1
}
