{
 "cells": [
  {
   "cell_type": "markdown",
   "metadata": {},
   "source": [
    "# Tema 10: Métodos de las colecciones (Enunciados)\n",
    "*Nota: Estos ejercicios son optativos para hacer al final de la unidad y están pensados para apoyar tu aprendizaje*."
   ]
  },
  {
   "cell_type": "markdown",
   "metadata": {},
   "source": [
    "**1) Utilizando todo lo que sabes sobre cadenas, listas, sus métodos internos... Transforma este texto:**\n",
    "\n",
    "```\n",
    "un día que el viento soplaba con fuerza#mira como se mueve aquella banderola -dijo un monje#lo que se mueve es el viento -respondió otro monje#ni las banderolas ni el viento, lo que se mueve son vuestras mentes -dijo el maestro\n",
    "```\n",
    "**En este otro:**\n",
    "\n",
    "```\n",
    "Un día que el viento soplaba con fuerza...\n",
    "- Mira como se mueve aquella banderola -dijo un monje.\n",
    "- Lo que se mueve es el viento -respondió otro monje.\n",
    "- Ni las banderolas ni el viento, lo que se mueve son vuestras mentes -dijo el maestro.\n",
    "```\n",
    "**Lo único prohibido es modificar directamente el texto**"
   ]
  },
  {
   "cell_type": "code",
   "execution_count": 44,
   "metadata": {},
   "outputs": [
    {
     "name": "stdout",
     "output_type": "stream",
     "text": [
      "Un día que el viento soplaba con fuerza...\n",
      "- Mira como se mueve aquella banderola -dijo un monje\n",
      "- Lo que se mueve es el viento -respondió otro monje\n",
      "- Ni las banderolas ni el viento, lo que se mueve son vuestras mentes -dijo el maestro\n"
     ]
    }
   ],
   "source": [
    "# Completa el ejercicio aquí\n",
    "texto = \"un día que el viento soplaba con fuerza#mira como se mueve aquella banderola -dijo un monje#lo que se mueve es el viento -respondió otro monje#ni las banderolas ni el viento, lo que se mueve son vuestras mentes -dijo el maestro\"\n",
    "nuevo_texto = texto.split(\"#\")\n",
    "nuevo_texto[0] = nuevo_texto[0] + \"...\"\n",
    "\n",
    "for c,v in enumerate(nuevo_texto):\n",
    "        nuevo_texto[c].strip('\\'')\n",
    "        nuevo_texto[c].capitalize()\n",
    "        if (v.find('soplaba') > 0):\n",
    "            print(v.capitalize())\n",
    "        else: \n",
    "            print(\"- \"+ v.capitalize())\n",
    "    \n",
    "\n"
   ]
  },
  {
   "cell_type": "markdown",
   "metadata": {},
   "source": [
    "**2) Crea una función modificar() que a partir de una lista de números realice las siguientes tareas sin modificar la original:**\n",
    "\n",
    "* Borrar los elementos duplicados\n",
    "* Ordenar la lista de mayor a menor\n",
    "* Eliminar todos los números impares\n",
    "* Realizar una suma de todos los números que quedan\n",
    "* Añadir como primer elemento de la lista la suma realizada\n",
    "* Devolver la lista modificada\n",
    "* Finalmente, después de ejecutar la función, comprueba que la suma de todos los números a partir del segundo, concuerda con el primer número de la lista, tal que así:\n",
    "```python\n",
    "nueva_lista = modificar(lista)\n",
    "print( nueva_lista[0] == sum(nueva_lista[1:]) )\n",
    "> True\n",
    "```\n",
    "\n",
    "*Nota: La función sum(lista) devuelve una suma de los elementos de una lista*"
   ]
  },
  {
   "cell_type": "code",
   "execution_count": 117,
   "metadata": {},
   "outputs": [
    {
     "name": "stdout",
     "output_type": "stream",
     "text": [
      "[29, -5, -12, 17, 5, 24, 12, 23, 16]\n"
     ]
    }
   ],
   "source": [
    "# Completa el ejercicio aquí\n",
    "lista = [29, -5, -12, 17, 5, 24, 5, 12, 23, 16, 12, 5, -12, 17]\n",
    "nueva_lista = list(dict.fromkeys(lista))\n",
    "print(nueva_lista)"
   ]
  },
  {
   "cell_type": "code",
   "execution_count": 118,
   "metadata": {},
   "outputs": [
    {
     "name": "stdout",
     "output_type": "stream",
     "text": [
      "[29, 24, 23, 17, 16, 12, 5, -5, -12]\n"
     ]
    }
   ],
   "source": [
    "nueva_lista.sort(reverse=True)\n",
    "print(nueva_lista)"
   ]
  },
  {
   "cell_type": "code",
   "execution_count": 127,
   "metadata": {},
   "outputs": [
    {
     "name": "stdout",
     "output_type": "stream",
     "text": [
      "Final: [40, 24, 16, 12, -12]\n",
      "[80, 40, 24, 16, 12, -12]\n"
     ]
    }
   ],
   "source": [
    "\n",
    "inpares = []\n",
    "for indice,numero in enumerate(nueva_lista):\n",
    "    if not numero % 2 == 0:\n",
    "        inpares.append(nueva_lista[indice])\n",
    "\n",
    "for e in inpares:\n",
    "    nueva_lista.remove(e)\n",
    "    \n",
    "print(\"Final:\", nueva_lista)\n",
    "\n",
    "result = 0\n",
    "\n",
    "for n in nueva_lista:\n",
    "    result += n\n",
    "\n",
    "nueva_lista.insert(0,result)\n",
    "\n",
    "print(nueva_lista)\n"
   ]
  },
  {
   "cell_type": "code",
   "execution_count": 131,
   "metadata": {},
   "outputs": [],
   "source": [
    "def modificar(lista):\n",
    "    nueva_lista = list(dict.fromkeys(lista))\n",
    "    nueva_lista.sort(reverse=True)\n",
    "    inpares = []\n",
    "    for indice,numero in enumerate(nueva_lista):\n",
    "        if not numero % 2 == 0:\n",
    "            inpares.append(nueva_lista[indice])\n",
    "\n",
    "    for e in inpares:\n",
    "        nueva_lista.remove(e)\n",
    "\n",
    "    result = 0\n",
    "    for n in nueva_lista:\n",
    "        result += n\n",
    "\n",
    "    nueva_lista.insert(0,result)\n",
    "\n",
    "    return nueva_lista"
   ]
  },
  {
   "cell_type": "code",
   "execution_count": 134,
   "metadata": {},
   "outputs": [],
   "source": [
    "lista = [29, -5, -12, 17, 5, 24, 5, 12, 23, 16, 12, 5, -12, 17]\n",
    "nueva = modificar(lista)"
   ]
  },
  {
   "cell_type": "code",
   "execution_count": 135,
   "metadata": {},
   "outputs": [
    {
     "name": "stdout",
     "output_type": "stream",
     "text": [
      "True\n"
     ]
    }
   ],
   "source": [
    "print( nueva[0] == sum(nueva[1:]) )"
   ]
  },
  {
   "cell_type": "code",
   "execution_count": null,
   "metadata": {},
   "outputs": [],
   "source": []
  }
 ],
 "metadata": {
  "anaconda-cloud": {},
  "kernelspec": {
   "display_name": "Python 3",
   "language": "python",
   "name": "python3"
  },
  "language_info": {
   "codemirror_mode": {
    "name": "ipython",
    "version": 3
   },
   "file_extension": ".py",
   "mimetype": "text/x-python",
   "name": "python",
   "nbconvert_exporter": "python",
   "pygments_lexer": "ipython3",
   "version": "3.9.5"
  }
 },
 "nbformat": 4,
 "nbformat_minor": 1
}
