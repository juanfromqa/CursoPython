{
 "cells": [
  {
   "cell_type": "code",
   "execution_count": 9,
   "metadata": {},
   "outputs": [],
   "source": [
    "# La clase es como un molde. DEbe ir en mayuscula el nombre de la clase\n",
    "class Galleta:\n",
    "    chocolate = False"
   ]
  },
  {
   "cell_type": "code",
   "execution_count": 2,
   "metadata": {},
   "outputs": [],
   "source": [
    "una_galleta = Galleta()\n",
    "otra_galleta = Galleta()"
   ]
  },
  {
   "cell_type": "code",
   "execution_count": 3,
   "metadata": {},
   "outputs": [
    {
     "data": {
      "text/plain": [
       "__main__.Galleta"
      ]
     },
     "execution_count": 3,
     "metadata": {},
     "output_type": "execute_result"
    }
   ],
   "source": [
    "type(una_galleta)"
   ]
  },
  {
   "cell_type": "code",
   "execution_count": 6,
   "metadata": {},
   "outputs": [
    {
     "data": {
      "text/plain": [
       "builtin_function_or_method"
      ]
     },
     "execution_count": 6,
     "metadata": {},
     "output_type": "execute_result"
    }
   ],
   "source": [
    "# Todo en python es un objeto\n",
    "type(len)"
   ]
  },
  {
   "cell_type": "code",
   "execution_count": 7,
   "metadata": {},
   "outputs": [],
   "source": [
    "una_galleta.sabor = \"Dulce\" # Se crea la propiedad dentro de la clase con ese valor"
   ]
  },
  {
   "cell_type": "code",
   "execution_count": 11,
   "metadata": {},
   "outputs": [
    {
     "name": "stdout",
     "output_type": "stream",
     "text": [
      "Dulce\n"
     ]
    }
   ],
   "source": [
    "print(una_galleta.sabor)"
   ]
  },
  {
   "cell_type": "code",
   "execution_count": 18,
   "metadata": {},
   "outputs": [
    {
     "name": "stdout",
     "output_type": "stream",
     "text": [
      "Se acaba de crear una galleta\n",
      "True\n"
     ]
    }
   ],
   "source": [
    "# init y self\n",
    "\n",
    "class Galleta():\n",
    "    chocolate = False # Se accede a este valor con self.chocolate\n",
    "    def __init__(self):\n",
    "        print(\"Se acaba de crear una galleta\")\n",
    "    def chocolatear(self): # Se pasa self para poder usar las variables de la clase\n",
    "        self.chocolate = True;\n",
    "        \n",
    "g = Galleta()\n",
    "g.chocolatear()\n",
    "print(g.chocolate)\n"
   ]
  },
  {
   "cell_type": "code",
   "execution_count": null,
   "metadata": {},
   "outputs": [],
   "source": [
    "# init y self\n",
    "\n",
    "class Galleta():\n",
    "    chocolate = False # Se accede a este valor con self.chocolate\n",
    "    def __init__(self, sabor=None, color=None): # Valores por defecto y este metodo se ejecuta al crear una instancia (Es el metodo constructor)\n",
    "        self.sabor = sabor\n",
    "        self.color = color\n",
    "        print(\"Se acaba de crear una galleta\")\n",
    "    def chocolatear(self): # Se pasa self para poder usar las variables de la clase\n",
    "        self.chocolate = True;\n",
    "        \n",
    "g = Galleta()\n",
    "g.chocolatear()\n",
    "\n"
   ]
  }
 ],
 "metadata": {
  "kernelspec": {
   "display_name": "Python 3",
   "language": "python",
   "name": "python3"
  },
  "language_info": {
   "codemirror_mode": {
    "name": "ipython",
    "version": 3
   },
   "file_extension": ".py",
   "mimetype": "text/x-python",
   "name": "python",
   "nbconvert_exporter": "python",
   "pygments_lexer": "ipython3",
   "version": "3.9.5"
  }
 },
 "nbformat": 4,
 "nbformat_minor": 1
}
