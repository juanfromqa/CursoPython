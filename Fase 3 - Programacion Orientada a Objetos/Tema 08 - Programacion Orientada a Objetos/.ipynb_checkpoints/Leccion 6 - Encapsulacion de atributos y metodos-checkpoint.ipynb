{
 "cells": [
  {
   "cell_type": "code",
   "execution_count": 20,
   "metadata": {},
   "outputs": [],
   "source": [
    "# LA encapsulacion impide el acceso externo a atributos y metodos. Python no ofrece esta funcionalidad\n",
    "# Pero se puede usar con __\n",
    "\n",
    "class Ejemplo:\n",
    "    __atributo_privado = \"Soy un atributo inalcanzable desde fuera\"\n",
    "    \n",
    "    def __metodo_privado(self):\n",
    "        print(\"Soy un método inalcanzable\")\n",
    "        \n",
    "    def atributo_publico(self):\n",
    "        return self.__atributo_privado"
   ]
  },
  {
   "cell_type": "code",
   "execution_count": 21,
   "metadata": {},
   "outputs": [],
   "source": [
    "e = Ejemplo()"
   ]
  },
  {
   "cell_type": "code",
   "execution_count": 22,
   "metadata": {},
   "outputs": [
    {
     "data": {
      "text/plain": [
       "'Soy un atributo inalcanzable desde fuera'"
      ]
     },
     "execution_count": 22,
     "metadata": {},
     "output_type": "execute_result"
    }
   ],
   "source": [
    "e.atributo_publico()"
   ]
  },
  {
   "cell_type": "code",
   "execution_count": null,
   "metadata": {},
   "outputs": [],
   "source": []
  }
 ],
 "metadata": {
  "kernelspec": {
   "display_name": "Python 3",
   "language": "python",
   "name": "python3"
  },
  "language_info": {
   "codemirror_mode": {
    "name": "ipython",
    "version": 3
   },
   "file_extension": ".py",
   "mimetype": "text/x-python",
   "name": "python",
   "nbconvert_exporter": "python",
   "pygments_lexer": "ipython3",
   "version": "3.9.5"
  }
 },
 "nbformat": 4,
 "nbformat_minor": 1
}
