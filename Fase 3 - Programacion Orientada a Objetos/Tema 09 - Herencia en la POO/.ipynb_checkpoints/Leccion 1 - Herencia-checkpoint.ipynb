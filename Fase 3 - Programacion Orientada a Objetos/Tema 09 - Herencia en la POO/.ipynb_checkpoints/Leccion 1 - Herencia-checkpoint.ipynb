{
 "cells": [
  {
   "cell_type": "code",
   "execution_count": 12,
   "metadata": {},
   "outputs": [
    {
     "data": {
      "text/plain": [
       "'ADORNO'"
      ]
     },
     "execution_count": 12,
     "metadata": {},
     "output_type": "execute_result"
    }
   ],
   "source": [
    "class Producto:\n",
    "    def __init__(self, referencia,tipo,nombre,pvp,descripcion,producto=None,ditribuidor=None,isbn=None, autor=None):\n",
    "        self.referncia = referencia\n",
    "        self.tipo = tipo\n",
    "        self.nombre = nombre\n",
    "        self.pvp = pvp\n",
    "        self.descripcion = descripcion\n",
    "        self.producto = producto\n",
    "        self.ditribuidor = ditribuidor\n",
    "        self.isbn = isbn\n",
    "        self.autor = autor\n",
    "\n",
    "adorno = Producto(\"000A\", \"ADORNO\", \"Vaso Adorno\", 15, \"Vaso de porcelana con dibujos\")\n",
    "adorno.tipo"
   ]
  },
  {
   "cell_type": "code",
   "execution_count": 42,
   "metadata": {},
   "outputs": [
    {
     "name": "stdout",
     "output_type": "stream",
     "text": [
      "Vaso adornado\n"
     ]
    },
    {
     "data": {
      "text/plain": [
       "'\\nREFERENCIA\\t2034\\nNOMBRE\\t\\tVaso adornado\\nPVP\\t\\t15 \\nDESCRIPCION\\tVaso de porcelana adornado con arboles'"
      ]
     },
     "execution_count": 42,
     "metadata": {},
     "output_type": "execute_result"
    }
   ],
   "source": [
    "class Producto:\n",
    "    def __init__(self, referencia, nombre, pvp, descripcion):\n",
    "        self.referencia = referencia\n",
    "        self.nombre = nombre\n",
    "        self.pvp = pvp\n",
    "        self.descripcion = descripcion\n",
    "    \n",
    "    def __str__(self):\n",
    "        return \"\"\"\n",
    "REFERENCIA\\t{}\n",
    "NOMBRE\\t\\t{}\n",
    "PVP\\t\\t{} \n",
    "DESCRIPCION\\t{}\"\"\".format(self.referencia, self.nombre, self.pvp, self.descripcion)\n",
    "\n",
    "class Adorno(Producto):\n",
    "    pass\n",
    "    \n",
    "a = Adorno(2034,\"Vaso adornado\", 15, \"Vaso de porcelana adornado con arboles\")\n",
    "print(a.nombre)\n",
    "str(a)"
   ]
  },
  {
   "cell_type": "code",
   "execution_count": 49,
   "metadata": {},
   "outputs": [
    {
     "name": "stdout",
     "output_type": "stream",
     "text": [
      "\n",
      "REFERENCIA\t2042\n",
      "NOMBRE\t\tBotella de aceite de Oliva Extra\n",
      "PVP\t\t5 \n",
      "DESCRIPCION\t250ml\n",
      "PRODUCTOR\tLa Aceitera\n",
      "DISTRIBUIDORLa distribuidora SA\n"
     ]
    }
   ],
   "source": [
    "# Asignación externa\n",
    "\n",
    "class Alimento(Producto): # Significa que hereda de Producto\n",
    "    productor = \"\"\n",
    "    distribuidor = \"\"\n",
    "    \n",
    "    def __str__(self):\n",
    "        return \"\"\"\n",
    "REFERENCIA\\t{}\n",
    "NOMBRE\\t\\t{}\n",
    "PVP\\t\\t{} \n",
    "DESCRIPCION\\t{}\n",
    "PRODUCTOR\\t{}\n",
    "DISTRIBUIDOR{}\"\"\".format(self.referencia, self.nombre, self.pvp, self.descripcion, self.productor, self.distribuidor)\n",
    "    \n",
    "    \n",
    "    \n",
    "al = Alimento (2042,\"Botella de aceite de Oliva Extra\",5 , \"250ml\")\n",
    "al.productor = \"La Aceitera\"\n",
    "al.distribuidor = \"La distribuidora SA\"\n",
    "\n",
    "print(al)"
   ]
  },
  {
   "cell_type": "code",
   "execution_count": 56,
   "metadata": {},
   "outputs": [
    {
     "name": "stdout",
     "output_type": "stream",
     "text": [
      "REFERENCIA\t2022\n",
      "NOMBRE\t\tCocina\n",
      "PVP\t\t9 \n",
      "DESCRIPCION\tDescripcion\n",
      "PRODUCTOR\tISBNNNN\n",
      "DISTRIBUIDOR\tautor\n"
     ]
    }
   ],
   "source": [
    "class Libro(Producto):\n",
    "    isbn=\"\"\n",
    "    autor=\"\"\n",
    "    \n",
    "    def __str__(self):\n",
    "            return \"\"\"\\\n",
    "REFERENCIA\\t{}\n",
    "NOMBRE\\t\\t{}\n",
    "PVP\\t\\t{} \n",
    "DESCRIPCION\\t{}\n",
    "PRODUCTOR\\t{}\n",
    "DISTRIBUIDOR\\t{}\"\"\".format(self.referencia, self.nombre, self.pvp, self.descripcion, self.isbn, self.autor)\n",
    "        \n",
    "libro = Libro(2022,\"Cocina\",9, \"Descripcion\")\n",
    "# Para agregar los valores que no provienien de la clase padre se necesita utilizar la asignación directa:\n",
    "libro.isbn = \"ISBNNNN\"\n",
    "libro.autor = \"autor\"\n",
    "print(libro)"
   ]
  },
  {
   "cell_type": "code",
   "execution_count": 61,
   "metadata": {},
   "outputs": [
    {
     "name": "stdout",
     "output_type": "stream",
     "text": [
      "[<__main__.Adorno object at 0x000002C5DC74BB20>, <__main__.Alimento object at 0x000002C5DC83F6A0>, <__main__.Libro object at 0x000002C5DC81DE20>]\n"
     ]
    }
   ],
   "source": [
    "productos = [a, al]\n",
    "productos.append(libro)\n",
    "print(productos)"
   ]
  },
  {
   "cell_type": "code",
   "execution_count": 66,
   "metadata": {},
   "outputs": [
    {
     "name": "stdout",
     "output_type": "stream",
     "text": [
      "\n",
      "REFERENCIA\t2034\n",
      "NOMBRE\t\tVaso adornado\n",
      "PVP\t\t15 \n",
      "DESCRIPCION\tVaso de porcelana adornado con arboles \n",
      "\n",
      "\n",
      "REFERENCIA\t2042\n",
      "NOMBRE\t\tBotella de aceite de Oliva Extra\n",
      "PVP\t\t5 \n",
      "DESCRIPCION\t250ml\n",
      "PRODUCTOR\tLa Aceitera\n",
      "DISTRIBUIDORLa distribuidora SA \n",
      "\n",
      "REFERENCIA\t2022\n",
      "NOMBRE\t\tCocina\n",
      "PVP\t\t9 \n",
      "DESCRIPCION\tDescripcion\n",
      "PRODUCTOR\tISBNNNN\n",
      "DISTRIBUIDOR\tautor \n",
      "\n"
     ]
    }
   ],
   "source": [
    "for p in productos :\n",
    "    print (p , \"\\n\")"
   ]
  },
  {
   "cell_type": "code",
   "execution_count": 67,
   "metadata": {},
   "outputs": [
    {
     "name": "stdout",
     "output_type": "stream",
     "text": [
      "2034 Vaso adornado\n",
      "2042 Botella de aceite de Oliva Extra\n",
      "2022 Cocina\n"
     ]
    }
   ],
   "source": [
    "for p in productos :\n",
    "    print (p.referencia , p.nombre) # Se podrían mostrar los atributros compartidos de los objetos en la lista"
   ]
  },
  {
   "cell_type": "code",
   "execution_count": null,
   "metadata": {},
   "outputs": [],
   "source": []
  }
 ],
 "metadata": {
  "kernelspec": {
   "display_name": "Python 3",
   "language": "python",
   "name": "python3"
  },
  "language_info": {
   "codemirror_mode": {
    "name": "ipython",
    "version": 3
   },
   "file_extension": ".py",
   "mimetype": "text/x-python",
   "name": "python",
   "nbconvert_exporter": "python",
   "pygments_lexer": "ipython3",
   "version": "3.9.5"
  }
 },
 "nbformat": 4,
 "nbformat_minor": 1
}
