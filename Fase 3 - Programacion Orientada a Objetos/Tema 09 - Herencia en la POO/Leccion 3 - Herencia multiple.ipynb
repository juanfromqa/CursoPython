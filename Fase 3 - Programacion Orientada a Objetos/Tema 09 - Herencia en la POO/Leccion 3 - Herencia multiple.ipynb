{
 "cells": [
  {
   "cell_type": "code",
   "execution_count": 7,
   "metadata": {},
   "outputs": [
    {
     "name": "stdout",
     "output_type": "stream",
     "text": [
      "Soy de clase A\n",
      "Este método lo heredo de A\n"
     ]
    }
   ],
   "source": [
    "class A:\n",
    "    def __init__(self):\n",
    "        print(\"Soy de clase A\")\n",
    "    \n",
    "    def a(self):\n",
    "        print(\"Este método lo heredo de A\")\n",
    "\n",
    "class B:\n",
    "    def __init__(self):\n",
    "        print(\"Soy de clase B\")\n",
    "\n",
    "    def b(self):\n",
    "        print(\"Este método lo heredo de B\")\n",
    "\n",
    "\n",
    "class C(A,B): # Depende del orden en el que se ingresen las clases padre, el primero tiene mas prioridad\n",
    "    pass\n",
    "    def c(self):\n",
    "        print(\"Este metodo es de C\")\n",
    "\n",
    "c = C()\n",
    "\n",
    "c.a()"
   ]
  },
  {
   "cell_type": "code",
   "execution_count": 8,
   "metadata": {},
   "outputs": [
    {
     "name": "stdout",
     "output_type": "stream",
     "text": [
      "Este método lo heredo de B\n"
     ]
    }
   ],
   "source": [
    "c.b()"
   ]
  },
  {
   "cell_type": "code",
   "execution_count": 9,
   "metadata": {},
   "outputs": [
    {
     "name": "stdout",
     "output_type": "stream",
     "text": [
      "Este metodo es de C\n"
     ]
    }
   ],
   "source": [
    "c.c()"
   ]
  },
  {
   "cell_type": "code",
   "execution_count": null,
   "metadata": {},
   "outputs": [],
   "source": []
  }
 ],
 "metadata": {
  "kernelspec": {
   "display_name": "Python 3",
   "language": "python",
   "name": "python3"
  },
  "language_info": {
   "codemirror_mode": {
    "name": "ipython",
    "version": 3
   },
   "file_extension": ".py",
   "mimetype": "text/x-python",
   "name": "python",
   "nbconvert_exporter": "python",
   "pygments_lexer": "ipython3",
   "version": "3.9.5"
  }
 },
 "nbformat": 4,
 "nbformat_minor": 1
}
